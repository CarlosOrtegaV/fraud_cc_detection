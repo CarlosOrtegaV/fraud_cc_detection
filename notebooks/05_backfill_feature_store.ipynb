{
 "cells": [
  {
   "cell_type": "code",
   "execution_count": 1,
   "metadata": {},
   "outputs": [],
   "source": [
    "import sys\n",
    "sys.path.append('../')\n",
    "import src.config as config\n",
    "from src.paths import PREPROCESSED_DATA_DIR"
   ]
  },
  {
   "cell_type": "code",
   "execution_count": 2,
   "metadata": {},
   "outputs": [],
   "source": [
    "import os\n",
    "from dotenv import load_dotenv\n",
    "import pandas as pd\n",
    "from datetime import datetime\n",
    "import hopsworks\n",
    "import tqdm"
   ]
  },
  {
   "cell_type": "code",
   "execution_count": 4,
   "metadata": {},
   "outputs": [
    {
     "name": "stderr",
     "output_type": "stream",
     "text": [
      "DeprecationWarning: invalid escape sequence \\$\n"
     ]
    }
   ],
   "source": [
    "import sys\n",
    "sys.path.append('../')\n",
    "from src.paths import PARENT_DIR, RAW_DATA_DIR, PREPROCESSED_DATA_DIR\n",
    "from src.data import preprocess_data"
   ]
  },
  {
   "cell_type": "code",
   "execution_count": 5,
   "metadata": {},
   "outputs": [],
   "source": [
    "# Load key-value pairs from the .env file into the script's environment\n",
    "load_dotenv(PARENT_DIR / '.env')\n",
    "HOPSWORKS_API_KEY = os.environ['HOPSWORKS_API_KEY']"
   ]
  },
  {
   "cell_type": "code",
   "execution_count": 5,
   "metadata": {},
   "outputs": [],
   "source": [
    "df = pd.read_csv(RAW_DATA_DIR / 'ibm_fraud_cc.csv')"
   ]
  },
  {
   "cell_type": "code",
   "execution_count": 6,
   "metadata": {},
   "outputs": [],
   "source": [
    "drop_cols = ['card','merchant_city', 'zip']\n",
    "\n",
    "df_trans_per_year = []"
   ]
  },
  {
   "cell_type": "code",
   "execution_count": 7,
   "metadata": {},
   "outputs": [
    {
     "name": "stderr",
     "output_type": "stream",
     "text": [
      "Calculating RFM features: 100%|██████████| 198751/198751 [03:28<00:00, 952.43it/s]\n",
      "Calculating RFM features: 100%|██████████| 286723/286723 [06:04<00:00, 787.11it/s]\n",
      "Calculating RFM features: 100%|██████████| 396974/396974 [10:05<00:00, 655.89it/s]\n",
      "Calculating RFM features: 100%|██████████| 530117/530117 [47:14<00:00, 186.99it/s]\n",
      "Calculating RFM features: 100%|██████████| 680503/680503 [1:17:04<00:00, 147.14it/s]\n",
      "Calculating RFM features: 100%|██████████| 855575/855575 [1:13:43<00:00, 193.43it/s]\n",
      "Preprocessing Data Sets per Year: 100%|██████████| 6/6 [3:44:31<00:00, 2245.29s/it]\n"
     ]
    }
   ],
   "source": [
    "starting_year = 2000\n",
    "ending_year = 2006\n",
    "range_years = range(starting_year,ending_year)\n",
    "\n",
    "for year in tqdm.tqdm(range_years, total=len(range_years), desc='Preprocessing Data Sets per Year'):\n",
    "    \n",
    "    df_trans_ = preprocess_data(df, year=year, time_delta=60, drop_cols=drop_cols)\n",
    "    df_trans_per_year.append(df_trans_)"
   ]
  },
  {
   "cell_type": "code",
   "execution_count": 8,
   "metadata": {},
   "outputs": [],
   "source": [
    "df_trans_full = pd.concat(df_trans_per_year)"
   ]
  },
  {
   "cell_type": "code",
   "execution_count": null,
   "metadata": {},
   "outputs": [],
   "source": [
    "# add column with Unix epoch milliseconds\n",
    "df_trans_full['full_date_unix'] = df_trans_full['full_date'].apply(lambda x: int(datetime.timestamp(x) * 1000))"
   ]
  },
  {
   "cell_type": "code",
   "execution_count": 39,
   "metadata": {},
   "outputs": [],
   "source": [
    "# Dropping some duplicates that are not being removed by the preprocessing function, but they're not relevant for the analysis (no frauds)\n",
    "id_cols = ['user','amount','full_date_unix']\n",
    "df_trans_full = df_trans_full.drop_duplicates(subset=id_cols, keep=False)"
   ]
  },
  {
   "cell_type": "code",
   "execution_count": 6,
   "metadata": {},
   "outputs": [
    {
     "name": "stdout",
     "output_type": "stream",
     "text": [
      "Connected. Call `.close()` to terminate connection gracefully.\n",
      "\n",
      "Logged in to project, explore it here https://c.app.hopsworks.ai:443/p/517268\n"
     ]
    }
   ],
   "source": [
    "project = hopsworks.login(\n",
    "    project = config.HOPSWORKS_PROJECT_NAME,\n",
    "    api_key_value=HOPSWORKS_API_KEY\n",
    ")"
   ]
  },
  {
   "cell_type": "code",
   "execution_count": 7,
   "metadata": {},
   "outputs": [
    {
     "name": "stdout",
     "output_type": "stream",
     "text": [
      "Connected. Call `.close()` to terminate connection gracefully.\n"
     ]
    }
   ],
   "source": [
    "feature_store = project.get_feature_store()"
   ]
  },
  {
   "cell_type": "code",
   "execution_count": 8,
   "metadata": {},
   "outputs": [],
   "source": [
    "feature_group = feature_store.get_or_create_feature_group(\n",
    "    name=config.FEATURE_GROUP_NAME,\n",
    "    version=config.FEATURE_GROUP_VERSION,\n",
    "    description=\"Transaction data with RFM features at hourly frequency\",\n",
    "    primary_key=['full_date_unix','user','amount'],\n",
    "    event_time='full_date_unix',\n",
    ")"
   ]
  },
  {
   "cell_type": "code",
   "execution_count": 47,
   "metadata": {},
   "outputs": [
    {
     "name": "stdout",
     "output_type": "stream",
     "text": [
      "Feature Group created successfully, explore it at \n",
      "https://c.app.hopsworks.ai:443/p/517268/fs/513091/fg/574819\n"
     ]
    },
    {
     "data": {
      "application/vnd.jupyter.widget-view+json": {
       "model_id": "8f76fe4d4ff14b94b5ca65d417cafdaf",
       "version_major": 2,
       "version_minor": 0
      },
      "text/plain": [
       "Uploading Dataframe: 0.00% |          | Rows 0/2442744 | Elapsed Time: 00:00 | Remaining Time: ?"
      ]
     },
     "metadata": {},
     "output_type": "display_data"
    },
    {
     "name": "stdout",
     "output_type": "stream",
     "text": [
      "Launching job: transactions_with_rfm_feature_group_1_offline_fg_materialization\n",
      "Job started successfully, you can follow the progress at \n",
      "https://c.app.hopsworks.ai/p/517268/jobs/named/transactions_with_rfm_feature_group_1_offline_fg_materialization/executions\n"
     ]
    },
    {
     "data": {
      "text/plain": [
       "(<hsfs.core.job.Job at 0x27395a78730>, None)"
      ]
     },
     "execution_count": 47,
     "metadata": {},
     "output_type": "execute_result"
    }
   ],
   "source": [
    "feature_group.insert(df_trans_full, write_options={\"wait_for_job\": False})\n"
   ]
  },
  {
   "cell_type": "code",
   "execution_count": 50,
   "metadata": {},
   "outputs": [],
   "source": [
    "df_trans_full.to_parquet(PREPROCESSED_DATA_DIR / 'full_data_2000_2005.parquet', index=False)"
   ]
  }
 ],
 "metadata": {
  "kernelspec": {
   "display_name": "fraud_detection_project",
   "language": "python",
   "name": "python3"
  },
  "language_info": {
   "codemirror_mode": {
    "name": "ipython",
    "version": 3
   },
   "file_extension": ".py",
   "mimetype": "text/x-python",
   "name": "python",
   "nbconvert_exporter": "python",
   "pygments_lexer": "ipython3",
   "version": "3.9.0"
  }
 },
 "nbformat": 4,
 "nbformat_minor": 2
}
